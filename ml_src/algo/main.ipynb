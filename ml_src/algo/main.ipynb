{
 "cells": [
  {
   "cell_type": "code",
   "execution_count": 72,
   "metadata": {},
   "outputs": [],
   "source": [
    "import pandas as pd\n",
    "import matplotlib.pyplot as plt\n",
    "import numpy as np\n",
    "\n",
    "%matplotlib inline\n",
    "\n",
    "from sklearn.feature_extraction.text import CountVectorizer, TfidfVectorizer\n",
    "\n",
    "from sklearn.model_selection import train_test_split, cross_validate, GridSearchCV, learning_curve, validation_curve\n",
    "from sklearn.metrics import roc_curve, roc_auc_score\n",
    "from sklearn.naive_bayes import BernoulliNB\n",
    "\n",
    "from sklearn.metrics import accuracy_score, confusion_matrix, classification_report"
   ]
  },
  {
   "cell_type": "code",
   "execution_count": 73,
   "metadata": {},
   "outputs": [],
   "source": [
    "data = pd.read_csv(\"./final.csv\", index_col=0)"
   ]
  },
  {
   "cell_type": "code",
   "execution_count": 74,
   "metadata": {
    "scrolled": false
   },
   "outputs": [
    {
     "data": {
      "text/html": [
       "<div>\n",
       "<style scoped>\n",
       "    .dataframe tbody tr th:only-of-type {\n",
       "        vertical-align: middle;\n",
       "    }\n",
       "\n",
       "    .dataframe tbody tr th {\n",
       "        vertical-align: top;\n",
       "    }\n",
       "\n",
       "    .dataframe thead th {\n",
       "        text-align: right;\n",
       "    }\n",
       "</style>\n",
       "<table border=\"1\" class=\"dataframe\">\n",
       "  <thead>\n",
       "    <tr style=\"text-align: right;\">\n",
       "      <th></th>\n",
       "      <th>text</th>\n",
       "      <th>y</th>\n",
       "    </tr>\n",
       "  </thead>\n",
       "  <tbody>\n",
       "    <tr>\n",
       "      <th>0</th>\n",
       "      <td>urgent business assistance and partnershipdear...</td>\n",
       "      <td>1</td>\n",
       "    </tr>\n",
       "    <tr>\n",
       "      <th>1</th>\n",
       "      <td>i am mr ben suleman a custom officer and work ...</td>\n",
       "      <td>1</td>\n",
       "    </tr>\n",
       "    <tr>\n",
       "      <th>2</th>\n",
       "      <td>his royal majesty hrm crown ruler of eleme ki...</td>\n",
       "      <td>1</td>\n",
       "    </tr>\n",
       "    <tr>\n",
       "      <th>3</th>\n",
       "      <td>his royal majesty hrm crown ruler of eleme ki...</td>\n",
       "      <td>1</td>\n",
       "    </tr>\n",
       "    <tr>\n",
       "      <th>4</th>\n",
       "      <td>it is with a heart full of hope that i write...</td>\n",
       "      <td>1</td>\n",
       "    </tr>\n",
       "  </tbody>\n",
       "</table>\n",
       "</div>"
      ],
      "text/plain": [
       "                                                text  y\n",
       "0  urgent business assistance and partnershipdear...  1\n",
       "1  i am mr ben suleman a custom officer and work ...  1\n",
       "2   his royal majesty hrm crown ruler of eleme ki...  1\n",
       "3   his royal majesty hrm crown ruler of eleme ki...  1\n",
       "4    it is with a heart full of hope that i write...  1"
      ]
     },
     "execution_count": 74,
     "metadata": {},
     "output_type": "execute_result"
    }
   ],
   "source": [
    "data.head()"
   ]
  },
  {
   "cell_type": "code",
   "execution_count": 75,
   "metadata": {},
   "outputs": [
    {
     "data": {
      "text/plain": [
       "'urgent business assistance and partnershipdear friendi am  dr james ngola the personal assistance to the late congolese president laurent kabila who was assassinated by his body guard on 16th jan 2001the incident occurred in our presence while we were holding meeting with his excellency over the financial returns  the diamond sales in the areas controlled by drc democratic republic of congo forces and their foreign allies angola and zimbabwe having received the previous day usd100m one hundred million united states dollars cash in three diplomatic boxes routed through zimbabwemy purpose of writing you this letter is to solicit for your assistance as to be a cover to the fund and also collaboration in moving the said fund into your bank account the sum of usd25m twenty five million united states dollars only which i deposited with a security company in ghana in a diplomatic box as golds worth usd25m twenty five million united states dollars only for safe keeping in a security vault for any further investment perhaps in your country you were introduced to me by a reliable friend of mine who is a travellerand also a member of chamber of commerce as a reliable and trustworthy person whom i can rely on as foreign partner even though the nature of the transaction was not revealed to him for security reasonsthe usd25m was part of a proceeds  diamond trade meant for the late president laurent kabila which was delivered through zimbabwe in diplomatic boxes the boxes were kept under my custody before the sad event that took the life of mr presidentthe confusion that ensued after the assassination and the sporadic shooting among the factions i have to run away  the country for my dear life as i am not a soldier but a civil servant i crossed river congo to other side of congo libreville  there i moved to the third country ghana where i am presently taking refuge as a matter of fact what i urgently needed  you is your assistance in moving this money into your account in your country for investment without raising eyebrow for your assistance i will give you 20 of the total sum as your own share when the money gets to your account while 75 will be for me of which with your kind advice i hope to invest in profitable venture in your country in other to settle down for meaningful life as i am tired of living in a war environment the remaining 5 will be used to offset any cost incurred in the cause of moving the money to your account if the proposal is acceptable to you please contact me immediately through the above telephone and email to enable me arrange face to face meeting with you in ghana for the clearance of the funds before transfring it to your bank account as seeing is believing finally it is important also that i let you understand that there is no risk involved whatsoever as the money had no record in kinshasa for it was meant for the personal use of mr presidend  before the nefarious incident occurred and also i have all the necessary documents as regards to the funds including the certificate of deposit as i am the depositor of the consignmentlooking forward to your urgent responseyour sincerelymr james ngola '"
      ]
     },
     "execution_count": 75,
     "metadata": {},
     "output_type": "execute_result"
    }
   ],
   "source": [
    "data.iloc[0].text"
   ]
  },
  {
   "cell_type": "markdown",
   "metadata": {},
   "source": [
    "# TF-IDF"
   ]
  },
  {
   "cell_type": "code",
   "execution_count": 76,
   "metadata": {},
   "outputs": [],
   "source": [
    "stop_words = []\n",
    "\n",
    "with open('./stop_words.txt', 'r') as f:\n",
    "    for _ in range(127):\n",
    "        tmp = f.readline()\n",
    "        tmp = tmp.replace('\\n', '')\n",
    "        stop_words.append(tmp)"
   ]
  },
  {
   "cell_type": "code",
   "execution_count": 77,
   "metadata": {},
   "outputs": [],
   "source": [
    "X, y = data['text'], data['y']"
   ]
  },
  {
   "cell_type": "code",
   "execution_count": 78,
   "metadata": {},
   "outputs": [],
   "source": [
    "tfidf = TfidfVectorizer(max_df=0.01, stop_words=stop_words)"
   ]
  },
  {
   "cell_type": "code",
   "execution_count": 79,
   "metadata": {},
   "outputs": [],
   "source": [
    "X = np.array(X, dtype='U')"
   ]
  },
  {
   "cell_type": "code",
   "execution_count": 80,
   "metadata": {},
   "outputs": [
    {
     "data": {
      "text/plain": [
       "TfidfVectorizer(analyzer='word', binary=False, decode_error='strict',\n",
       "        dtype=<class 'numpy.int64'>, encoding='utf-8', input='content',\n",
       "        lowercase=True, max_df=0.01, max_features=None, min_df=1,\n",
       "        ngram_range=(1, 1), norm='l2', preprocessor=None, smooth_idf=True,\n",
       "        stop_words=['i', 'me', 'my', 'myself', 'we', 'our', 'ours', 'ourselves', 'you', 'your', 'yours', 'yourself', 'yourselves', 'he', 'him', 'his', 'himself', 'she', 'her', 'hers', 'herself', 'it', 'its', 'itself', 'they', 'them', 'their', 'theirs', 'themselves', 'what', 'which', 'who', 'whom', 'this', '...'own', 'same', 'so', 'than', 'too', 'very', 's', 't', 'can', 'will', 'just', 'don', 'should', 'now'],\n",
       "        strip_accents=None, sublinear_tf=False,\n",
       "        token_pattern='(?u)\\\\b\\\\w\\\\w+\\\\b', tokenizer=None, use_idf=True,\n",
       "        vocabulary=None)"
      ]
     },
     "execution_count": 80,
     "metadata": {},
     "output_type": "execute_result"
    }
   ],
   "source": [
    "tfidf.fit(X)"
   ]
  },
  {
   "cell_type": "code",
   "execution_count": 81,
   "metadata": {},
   "outputs": [
    {
     "data": {
      "text/plain": [
       "{'agreement',\n",
       " 'attached',\n",
       " 'calendar',\n",
       " 'call',\n",
       " 'credit',\n",
       " 'date',\n",
       " 'day',\n",
       " 'deal',\n",
       " 'dear',\n",
       " 'dont',\n",
       " 'draft',\n",
       " 'email',\n",
       " 'enron',\n",
       " 'file',\n",
       " 'find',\n",
       " 'following',\n",
       " 'friday',\n",
       " 'gas',\n",
       " 'get',\n",
       " 'go',\n",
       " 'going',\n",
       " 'good',\n",
       " 'hey',\n",
       " 'hi',\n",
       " 'im',\n",
       " 'jeff',\n",
       " 'know',\n",
       " 'last',\n",
       " 'let',\n",
       " 'letter',\n",
       " 'like',\n",
       " 'list',\n",
       " 'mark',\n",
       " 'may',\n",
       " 'meeting',\n",
       " 'monday',\n",
       " 'need',\n",
       " 'new',\n",
       " 'office',\n",
       " 'one',\n",
       " 'per',\n",
       " 'please',\n",
       " 'received',\n",
       " 'report',\n",
       " 'request',\n",
       " 'review',\n",
       " 'revised',\n",
       " 'schedule',\n",
       " 'see',\n",
       " 'send',\n",
       " 'sent',\n",
       " 'sorry',\n",
       " 'start',\n",
       " 'th',\n",
       " 'thanks',\n",
       " 'think',\n",
       " 'time',\n",
       " 'today',\n",
       " 'us',\n",
       " 'want',\n",
       " 'week',\n",
       " 'would'}"
      ]
     },
     "execution_count": 81,
     "metadata": {},
     "output_type": "execute_result"
    }
   ],
   "source": [
    "tfidf.stop_words_"
   ]
  },
  {
   "cell_type": "code",
   "execution_count": 82,
   "metadata": {},
   "outputs": [],
   "source": [
    "X_tf = tfidf.transform(X)"
   ]
  },
  {
   "cell_type": "markdown",
   "metadata": {},
   "source": [
    "# Validation curve"
   ]
  },
  {
   "cell_type": "code",
   "execution_count": 83,
   "metadata": {},
   "outputs": [],
   "source": [
    "def plot_val_curve(param_name, param_range):\n",
    "    train_score, test_score = validation_curve(\n",
    "        BernoulliNB(),\n",
    "        X_tf, y,\n",
    "        param_name=param_name,\n",
    "        param_range=param_range,\n",
    "        cv=10,\n",
    "        scoring='recall'\n",
    "    )\n",
    "    \n",
    "    train_score_mean = np.mean(train_score, axis=1)\n",
    "    test_score_mean = np.mean(test_score, axis=1)\n",
    "    \n",
    "    plt.plot(param_range, train_score_mean, c='k', label='train')\n",
    "    plt.plot(param_range, test_score_mean, c='r', label='test')\n",
    "    plt.ylabel('recall')\n",
    "    plt.legend()"
   ]
  },
  {
   "cell_type": "code",
   "execution_count": 84,
   "metadata": {
    "scrolled": true
   },
   "outputs": [
    {
     "name": "stderr",
     "output_type": "stream",
     "text": [
      "/Users/victor/Documents/FraudDetection/.venv/lib/python3.6/site-packages/sklearn/naive_bayes.py:472: UserWarning: alpha too small will result in numeric errors, setting alpha = 1.0e-10\n",
      "  'setting alpha = %.1e' % _ALPHA_MIN)\n",
      "/Users/victor/Documents/FraudDetection/.venv/lib/python3.6/site-packages/sklearn/naive_bayes.py:472: UserWarning: alpha too small will result in numeric errors, setting alpha = 1.0e-10\n",
      "  'setting alpha = %.1e' % _ALPHA_MIN)\n",
      "/Users/victor/Documents/FraudDetection/.venv/lib/python3.6/site-packages/sklearn/naive_bayes.py:472: UserWarning: alpha too small will result in numeric errors, setting alpha = 1.0e-10\n",
      "  'setting alpha = %.1e' % _ALPHA_MIN)\n",
      "/Users/victor/Documents/FraudDetection/.venv/lib/python3.6/site-packages/sklearn/naive_bayes.py:472: UserWarning: alpha too small will result in numeric errors, setting alpha = 1.0e-10\n",
      "  'setting alpha = %.1e' % _ALPHA_MIN)\n",
      "/Users/victor/Documents/FraudDetection/.venv/lib/python3.6/site-packages/sklearn/naive_bayes.py:472: UserWarning: alpha too small will result in numeric errors, setting alpha = 1.0e-10\n",
      "  'setting alpha = %.1e' % _ALPHA_MIN)\n",
      "/Users/victor/Documents/FraudDetection/.venv/lib/python3.6/site-packages/sklearn/naive_bayes.py:472: UserWarning: alpha too small will result in numeric errors, setting alpha = 1.0e-10\n",
      "  'setting alpha = %.1e' % _ALPHA_MIN)\n",
      "/Users/victor/Documents/FraudDetection/.venv/lib/python3.6/site-packages/sklearn/naive_bayes.py:472: UserWarning: alpha too small will result in numeric errors, setting alpha = 1.0e-10\n",
      "  'setting alpha = %.1e' % _ALPHA_MIN)\n",
      "/Users/victor/Documents/FraudDetection/.venv/lib/python3.6/site-packages/sklearn/naive_bayes.py:472: UserWarning: alpha too small will result in numeric errors, setting alpha = 1.0e-10\n",
      "  'setting alpha = %.1e' % _ALPHA_MIN)\n",
      "/Users/victor/Documents/FraudDetection/.venv/lib/python3.6/site-packages/sklearn/naive_bayes.py:472: UserWarning: alpha too small will result in numeric errors, setting alpha = 1.0e-10\n",
      "  'setting alpha = %.1e' % _ALPHA_MIN)\n",
      "/Users/victor/Documents/FraudDetection/.venv/lib/python3.6/site-packages/sklearn/naive_bayes.py:472: UserWarning: alpha too small will result in numeric errors, setting alpha = 1.0e-10\n",
      "  'setting alpha = %.1e' % _ALPHA_MIN)\n"
     ]
    },
    {
     "data": {
      "image/png": "[encoded data removed]",
      "text/plain": [
       "<matplotlib.figure.Figure at 0x113594ef0>"
      ]
     },
     "metadata": {},
     "output_type": "display_data"
    }
   ],
   "source": [
    "plot_val_curve('alpha', [0.0, 0.1, 0.2, 0.3, 0.4, 0.5, 0.6, 0.7, 0.8, 0.9, 1.0])"
   ]
  },
  {
   "cell_type": "markdown",
   "metadata": {},
   "source": [
    "# Learning-curve"
   ]
  },
  {
   "cell_type": "code",
   "execution_count": 85,
   "metadata": {},
   "outputs": [],
   "source": [
    "def plot_learning_curve():\n",
    "    train_range = [0.1, 0.2, 0.3, 0.4, 0.5, 0.6, 0.7, 0.8, 0.9, 1]\n",
    "    \n",
    "    train_size, train_score, test_score = learning_curve(\n",
    "        BernoulliNB(alpha=0.1, binarize=0.0),\n",
    "        X_tf, y,\n",
    "        train_sizes=train_range,\n",
    "        cv=10,\n",
    "        scoring='recall'\n",
    "    )\n",
    "    \n",
    "    train_score_mean = np.mean(train_score, axis=1)\n",
    "    test_score_mean = np.mean(test_score, axis=1)\n",
    "    \n",
    "    plt.plot(train_size, train_score_mean, c='k', label='train')\n",
    "    plt.plot(train_size, test_score_mean, c='r', label='test')\n",
    "    #plt.xlim([0, 0.4])\n",
    "    plt.ylabel('recall')\n",
    "    plt.legend()"
   ]
  },
  {
   "cell_type": "code",
   "execution_count": 86,
   "metadata": {
    "scrolled": true
   },
   "outputs": [
    {
     "data": {
      "image/png": "[encoded data removed]",
      "text/plain": [
       "<matplotlib.figure.Figure at 0x1141a8a20>"
      ]
     },
     "metadata": {},
     "output_type": "display_data"
    }
   ],
   "source": [
    "plot_learning_curve()"
   ]
  },
  {
   "cell_type": "markdown",
   "metadata": {},
   "source": [
    "# Cross-validation (K=10)"
   ]
  },
  {
   "cell_type": "code",
   "execution_count": 87,
   "metadata": {
    "scrolled": true
   },
   "outputs": [
    {
     "name": "stderr",
     "output_type": "stream",
     "text": [
      "/Users/victor/Documents/FraudDetection/.venv/lib/python3.6/site-packages/sklearn/utils/deprecation.py:122: FutureWarning: You are accessing a training score ('train_score'), which will not be available by default any more in 0.21. If you need training scores, please set return_train_score=True\n",
      "  warnings.warn(*warn_args, **warn_kwargs)\n"
     ]
    },
    {
     "data": {
      "text/plain": [
       "{'fit_time': array([0.03980899, 0.02924919, 0.02881002, 0.02937031, 0.02862573,\n",
       "        0.03021193, 0.0297792 , 0.03063893, 0.03465199, 0.02984691]),\n",
       " 'score_time': array([0.00560713, 0.00693798, 0.00555325, 0.00515199, 0.00522017,\n",
       "        0.00504112, 0.00533676, 0.00538611, 0.00559425, 0.00535798]),\n",
       " 'test_score': array([0.91904762, 0.90238095, 0.90952381, 0.87142857, 0.92142857,\n",
       "        0.91408115, 0.8973747 , 0.8973747 , 0.86873508, 0.81861575]),\n",
       " 'train_score': array([0.9610596 , 0.96476821, 0.9610596 , 0.96397351, 0.96423841,\n",
       "        0.96239407, 0.96451271, 0.96345339, 0.96345339, 0.96557203])}"
      ]
     },
     "execution_count": 87,
     "metadata": {},
     "output_type": "execute_result"
    }
   ],
   "source": [
    "cross_validate(BernoulliNB(alpha=0.1, binarize=0.0), X_tf, y, scoring='recall', cv=10)"
   ]
  },
  {
   "cell_type": "markdown",
   "metadata": {},
   "source": [
    "# Classification Report"
   ]
  },
  {
   "cell_type": "code",
   "execution_count": 88,
   "metadata": {},
   "outputs": [],
   "source": [
    "X_train, X_test, y_train, y_test = train_test_split(X_tf, y, test_size=0.3)"
   ]
  },
  {
   "cell_type": "code",
   "execution_count": 89,
   "metadata": {},
   "outputs": [],
   "source": [
    "clf = BernoulliNB(alpha=0.1, binarize=0.0)"
   ]
  },
  {
   "cell_type": "code",
   "execution_count": 90,
   "metadata": {},
   "outputs": [
    {
     "data": {
      "text/plain": [
       "BernoulliNB(alpha=0.1, binarize=0.0, class_prior=None, fit_prior=True)"
      ]
     },
     "execution_count": 90,
     "metadata": {},
     "output_type": "execute_result"
    }
   ],
   "source": [
    "clf.fit(X_train, y_train)"
   ]
  },
  {
   "cell_type": "code",
   "execution_count": 91,
   "metadata": {},
   "outputs": [],
   "source": [
    "pred = clf.predict(X_test)"
   ]
  },
  {
   "cell_type": "code",
   "execution_count": 92,
   "metadata": {},
   "outputs": [
    {
     "name": "stdout",
     "output_type": "stream",
     "text": [
      "             precision    recall  f1-score   support\n",
      "\n",
      "          0       1.00      0.99      0.99     35697\n",
      "          1       0.70      0.90      0.79      1332\n",
      "\n",
      "avg / total       0.99      0.98      0.98     37029\n",
      "\n"
     ]
    }
   ],
   "source": [
    "print(classification_report(y_test, pred))"
   ]
  },
  {
   "cell_type": "markdown",
   "metadata": {},
   "source": [
    "# ROC curve"
   ]
  },
  {
   "cell_type": "code",
   "execution_count": 93,
   "metadata": {},
   "outputs": [],
   "source": [
    "y_scores = clf.predict_proba(X_test)"
   ]
  },
  {
   "cell_type": "code",
   "execution_count": 94,
   "metadata": {},
   "outputs": [],
   "source": [
    "fpr, tpr, thresholds = roc_curve(y_test, y_scores[:, 1])"
   ]
  },
  {
   "cell_type": "code",
   "execution_count": 95,
   "metadata": {},
   "outputs": [],
   "source": [
    "def plot_roc_curve(fpr, tpr, label=None):\n",
    "    plt.plot(fpr, tpr, linewidth=2, label=label)\n",
    "    plt.plot([0,1], [0,1], 'k--')\n",
    "    plt.axis([0, 1, 0, 1])\n",
    "    plt.xlabel('False Positive Rate')\n",
    "    plt.ylabel('True Positive Rate')\n",
    "    plt.title('ROC Curve')"
   ]
  },
  {
   "cell_type": "code",
   "execution_count": 96,
   "metadata": {},
   "outputs": [
    {
     "data": {
      "image/png": "[encoded data removed]",
      "text/plain": [
       "<matplotlib.figure.Figure at 0x1136d0a90>"
      ]
     },
     "metadata": {},
     "output_type": "display_data"
    }
   ],
   "source": [
    "plot_roc_curve(fpr, tpr, label='NaiveBayes')"
   ]
  },
  {
   "cell_type": "code",
   "execution_count": 97,
   "metadata": {},
   "outputs": [
    {
     "data": {
      "text/plain": [
       "0.991099154453218"
      ]
     },
     "execution_count": 97,
     "metadata": {},
     "output_type": "execute_result"
    }
   ],
   "source": [
    "roc_auc_score(y_test, y_scores[:, 1])"
   ]
  },
  {
   "cell_type": "markdown",
   "metadata": {},
   "source": [
    "# Final Model"
   ]
  },
  {
   "cell_type": "code",
   "execution_count": 98,
   "metadata": {},
   "outputs": [],
   "source": [
    "import pickle"
   ]
  },
  {
   "cell_type": "code",
   "execution_count": 99,
   "metadata": {},
   "outputs": [],
   "source": [
    "model = BernoulliNB(alpha=0.1, binarize=0.0).fit(X_tf, y)"
   ]
  },
  {
   "cell_type": "code",
   "execution_count": 100,
   "metadata": {},
   "outputs": [],
   "source": [
    "with open('../model.pickle', 'wb') as f:\n",
    "    pickle.dump(model, f)"
   ]
  },
  {
   "cell_type": "code",
   "execution_count": 101,
   "metadata": {},
   "outputs": [],
   "source": [
    "with open('../tfidf.pickle', 'wb') as f:\n",
    "    pickle.dump(tfidf, f)"
   ]
  },
  {
   "cell_type": "code",
   "execution_count": null,
   "metadata": {},
   "outputs": [],
   "source": []
  },
  {
   "cell_type": "code",
   "execution_count": null,
   "metadata": {},
   "outputs": [],
   "source": []
  }
 ],
 "metadata": {
  "kernelspec": {
   "display_name": "Python 3",
   "language": "python",
   "name": "python3"
  },
  "language_info": {
   "codemirror_mode": {
    "name": "ipython",
    "version": 3
   },
   "file_extension": ".py",
   "mimetype": "text/x-python",
   "name": "python",
   "nbconvert_exporter": "python",
   "pygments_lexer": "ipython3",
   "version": "3.6.4"
  }
 },
 "nbformat": 4,
 "nbformat_minor": 2
}
